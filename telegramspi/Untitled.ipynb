{
 "cells": [
  {
   "cell_type": "code",
   "execution_count": null,
   "id": "b8b5cc02-4247-47b1-bda8-939f41d69412",
   "metadata": {},
   "outputs": [],
   "source": [
    "https://api.telegram.org/bot7003648057:AAGfUTCSafJwDeHv9qI8Bi-p3bKw2Jxiujs\n",
    "/getUpdates"
   ]
  }
 ],
 "metadata": {
  "kernelspec": {
   "display_name": "Python 3 (ipykernel)",
   "language": "python",
   "name": "python3"
  },
  "language_info": {
   "codemirror_mode": {
    "name": "ipython",
    "version": 3
   },
   "file_extension": ".py",
   "mimetype": "text/x-python",
   "name": "python",
   "nbconvert_exporter": "python",
   "pygments_lexer": "ipython3",
   "version": "3.12.7"
  }
 },
 "nbformat": 4,
 "nbformat_minor": 5
}
